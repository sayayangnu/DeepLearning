{
 "cells": [
  {
   "cell_type": "markdown",
   "metadata": {
    "colab_type": "text",
    "id": "3ofV5GvpE99j"
   },
   "source": [
    "# **1. Build an AutoEncoder on the MNIST dataset**"
   ]
  },
  {
   "cell_type": "code",
   "execution_count": 4,
   "metadata": {
    "colab": {
     "base_uri": "https://localhost:8080/",
     "height": 97
    },
    "colab_type": "code",
    "id": "jriHNywTZ4NX",
    "outputId": "c72e8c46-f32f-4e4a-990e-475018403021"
   },
   "outputs": [],
   "source": [
    "from keras.models import Model, Sequential\n",
    "from keras.datasets import fashion_mnist\n",
    "import keras\n",
    "import numpy as np\n",
    "import matplotlib.pyplot as plt\n",
    "%matplotlib inline\n",
    "from keras.applications import vgg16\n",
    "from keras.layers import Input, Dense,Conv1D, Conv2D, MaxPooling2D, UpSampling2D, Flatten, Dropout, Reshape, Embedding, LSTM, GlobalMaxPooling1D"
   ]
  },
  {
   "cell_type": "code",
   "execution_count": 5,
   "metadata": {
    "colab": {
     "base_uri": "https://localhost:8080/",
     "height": 51
    },
    "colab_type": "code",
    "id": "_jhBLcs8aLs6",
    "outputId": "cc792953-7022-46e5-d724-9a6e8a795542"
   },
   "outputs": [],
   "source": [
    "# load fashion MNIST dataset\n",
    "(x_train, y_train), (x_test, y_test) = fashion_mnist.load_data()"
   ]
  },
  {
   "cell_type": "code",
   "execution_count": 5,
   "metadata": {
    "colab": {
     "base_uri": "https://localhost:8080/",
     "height": 34
    },
    "colab_type": "code",
    "id": "_FRQNoVW5YC9",
    "outputId": "0f51e595-2a8c-45f1-a254-360b6c06c309"
   },
   "outputs": [],
   "source": [
    "# rescale the image \n",
    "x_train = x_train.astype('float32') / 255\n",
    "x_test = x_test.astype('float32') / 255 \n",
    "x_train = np.reshape(x_train, (len(x_train), 28, 28, 1))  \n",
    "x_test = np.reshape(x_test, (len(x_test), 28, 28, 1))  "
   ]
  },
  {
   "cell_type": "code",
   "execution_count": 6,
   "metadata": {},
   "outputs": [
    {
     "data": {
      "text/plain": [
       "(60000, 28, 28, 1)"
      ]
     },
     "execution_count": 6,
     "metadata": {},
     "output_type": "execute_result"
    }
   ],
   "source": [
    "x_train.shape"
   ]
  },
  {
   "cell_type": "code",
   "execution_count": 14,
   "metadata": {},
   "outputs": [],
   "source": [
    "from keras.layers import Input, Dense, Conv2D, MaxPooling2D, UpSampling2D\n",
    "from keras.models import Model\n",
    "from keras import backend as K\n",
    "\n",
    "input_img = Input(shape=(28, 28, 1))  # adapt this if using `channels_first` image data format\n",
    "\n",
    "x = Conv2D(16, (3, 3), activation='relu', padding='same')(input_img)\n",
    "x = MaxPooling2D((2, 2), padding='same')(x)\n",
    "x = Conv2D(8, (3, 3), activation='relu', padding='same')(x)\n",
    "x = MaxPooling2D((2, 2), padding='same')(x)\n",
    "x = Conv2D(8, (3, 3), activation='relu', padding='same')(x)\n",
    "encoded = MaxPooling2D((2, 2), padding='same')(x)\n",
    "\n",
    "# at this point the representation is (4, 4, 8) i.e. 128-dimensional\n",
    "\n",
    "x = Conv2D(8, (3, 3), activation='relu', padding='same')(encoded)\n",
    "x = UpSampling2D((2, 2))(x)\n",
    "x = Conv2D(8, (3, 3), activation='relu', padding='same')(x)\n",
    "x = UpSampling2D((2, 2))(x)\n",
    "x = Conv2D(16, (3, 3), activation='relu')(x)\n",
    "x = UpSampling2D((2, 2))(x)\n",
    "decoded = Conv2D(1, (3, 3), activation='sigmoid', padding='same')(x)\n",
    "\n",
    "autoencoder = Model(input_img, decoded)\n",
    "autoencoder.compile(optimizer='adadelta', loss=\"binary_crossentropy\")"
   ]
  },
  {
   "cell_type": "code",
   "execution_count": 15,
   "metadata": {},
   "outputs": [
    {
     "name": "stdout",
     "output_type": "stream",
     "text": [
      "Train on 60000 samples, validate on 10000 samples\n",
      "Epoch 1/10\n",
      "60000/60000 [==============================] - 87s 1ms/step - loss: 0.3719 - val_loss: 0.3306\n",
      "Epoch 2/10\n",
      "60000/60000 [==============================] - 84s 1ms/step - loss: 0.3235 - val_loss: 0.3221\n",
      "Epoch 3/10\n",
      "60000/60000 [==============================] - 84s 1ms/step - loss: 0.3132 - val_loss: 0.3111\n",
      "Epoch 4/10\n",
      "60000/60000 [==============================] - 84s 1ms/step - loss: 0.3074 - val_loss: 0.3054\n",
      "Epoch 5/10\n",
      "60000/60000 [==============================] - 89s 1ms/step - loss: 0.3043 - val_loss: 0.3039\n",
      "Epoch 6/10\n",
      "60000/60000 [==============================] - 86s 1ms/step - loss: 0.3020 - val_loss: 0.3024\n",
      "Epoch 7/10\n",
      "60000/60000 [==============================] - 85s 1ms/step - loss: 0.3006 - val_loss: 0.3030\n",
      "Epoch 8/10\n",
      "60000/60000 [==============================] - 85s 1ms/step - loss: 0.2991 - val_loss: 0.3010\n",
      "Epoch 9/10\n",
      "60000/60000 [==============================] - 87s 1ms/step - loss: 0.2980 - val_loss: 0.2944\n",
      "Epoch 10/10\n",
      "60000/60000 [==============================] - 88s 1ms/step - loss: 0.2963 - val_loss: 0.2975\n"
     ]
    },
    {
     "data": {
      "text/plain": [
       "<keras.callbacks.callbacks.History at 0x64c6b0510>"
      ]
     },
     "execution_count": 15,
     "metadata": {},
     "output_type": "execute_result"
    }
   ],
   "source": [
    "autoencoder.fit(x_train, x_train,\n",
    "                epochs=10,\n",
    "                batch_size=128,\n",
    "                shuffle=True,\n",
    "                validation_data=(x_test, x_test))"
   ]
  },
  {
   "cell_type": "code",
   "execution_count": 17,
   "metadata": {},
   "outputs": [
    {
     "data": {
      "image/png": "[encoded data removed]",
      "text/plain": [
       "<Figure size 1440x288 with 20 Axes>"
      ]
     },
     "metadata": {
      "needs_background": "light"
     },
     "output_type": "display_data"
    }
   ],
   "source": [
    "decoded_imgs = autoencoder.predict(x_test)\n",
    "\n",
    "n = 10\n",
    "plt.figure(figsize=(20, 4))\n",
    "for i in range(n):\n",
    "    # display original\n",
    "    ax = plt.subplot(2, n, i + 1)\n",
    "    plt.imshow(x_test[i].reshape(28, 28))\n",
    "    plt.gray()\n",
    "    ax.get_xaxis().set_visible(False)\n",
    "    ax.get_yaxis().set_visible(False)\n",
    "\n",
    "    # display reconstruction\n",
    "    ax = plt.subplot(2, n, i + n + 1)\n",
    "    plt.imshow(decoded_imgs[i].reshape(28, 28))\n",
    "    plt.gray()\n",
    "    ax.get_xaxis().set_visible(False)\n",
    "    ax.get_yaxis().set_visible(False)\n",
    "plt.show()"
   ]
  },
  {
   "cell_type": "markdown",
   "metadata": {
    "colab_type": "text",
    "id": "euZLDLSFokPI"
   },
   "source": [
    "# **2. Image Classification**"
   ]
  },
  {
   "cell_type": "markdown",
   "metadata": {
    "colab_type": "text",
    "id": "KLe17psteAQi"
   },
   "source": [
    "1. CNN"
   ]
  },
  {
   "cell_type": "code",
   "execution_count": 18,
   "metadata": {
    "colab": {
     "base_uri": "https://localhost:8080/",
     "height": 34
    },
    "colab_type": "code",
    "id": "rkmWPIddpVyh",
    "outputId": "ab1d169f-8ef7-4c8c-e8ca-ae2ddbc0cab1"
   },
   "outputs": [
    {
     "data": {
      "text/plain": [
       "array([0., 0., 0., 0., 0., 0., 0., 0., 0., 1.], dtype=float32)"
      ]
     },
     "execution_count": 18,
     "metadata": {},
     "output_type": "execute_result"
    }
   ],
   "source": [
    "from keras.utils import to_categorical\n",
    "#one-hot encode target column\n",
    "# Convert 1-dimensional class arrays to 10-dimensional class matrices\n",
    "Y_train = to_categorical(y_train, 10)\n",
    "Y_test = to_categorical(y_test, 10)\n",
    "Y_train[0]"
   ]
  },
  {
   "cell_type": "code",
   "execution_count": 21,
   "metadata": {
    "colab": {},
    "colab_type": "code",
    "id": "OQbL6xq4pZDY"
   },
   "outputs": [],
   "source": [
    "from keras.optimizers import SGD\n",
    "def define_model():\n",
    "        model = Sequential()\n",
    "        model.add(Conv2D(32, (3, 3), padding='same', activation='relu', kernel_initializer='he_uniform', input_shape=(28, 28, 1)))\n",
    "        model.add(MaxPooling2D((2, 2)))\n",
    "        model.add(Flatten())\n",
    "        model.add(Dense(100, activation='relu', kernel_initializer='he_uniform'))\n",
    "        model.add(Dense(10, activation='softmax'))\n",
    "        # compile model\n",
    "        opt = SGD(lr=0.01, momentum=0.9)\n",
    "        model.compile(optimizer=opt, loss='categorical_crossentropy', metrics=['accuracy'])\n",
    "        return model"
   ]
  },
  {
   "cell_type": "code",
   "execution_count": 24,
   "metadata": {
    "colab": {
     "base_uri": "https://localhost:8080/",
     "height": 153
    },
    "colab_type": "code",
    "id": "VkzqsX7_pumE",
    "outputId": "c21bff04-0c61-4d6b-ab0b-64c0d3299284"
   },
   "outputs": [
    {
     "data": {
      "text/plain": [
       "<keras.callbacks.callbacks.History at 0x63fe6b250>"
      ]
     },
     "execution_count": 24,
     "metadata": {},
     "output_type": "execute_result"
    }
   ],
   "source": [
    "cnn = define_model()\n",
    "cnn.fit(x_train, Y_train,\n",
    "          batch_size=64,\n",
    "          epochs=8,\n",
    "          validation_data=(x_test, Y_test),verbose = 0 )"
   ]
  },
  {
   "cell_type": "code",
   "execution_count": 26,
   "metadata": {},
   "outputs": [
    {
     "name": "stdout",
     "output_type": "stream",
     "text": [
      "10000/10000 [==============================] - 2s 213us/step\n",
      "Test loss: 0.26623026064634325\n",
      "Test accuracy: 0.9079999923706055\n"
     ]
    }
   ],
   "source": [
    "# Evaluate Model \n",
    "result = cnn.evaluate(x_test, Y_test)\n",
    "print('Test loss:', result[0])\n",
    "print('Test accuracy:', result[1])"
   ]
  },
  {
   "cell_type": "markdown",
   "metadata": {
    "colab_type": "text",
    "id": "Ji-yt4qZeJi6"
   },
   "source": [
    "### 2. Transfer Learning"
   ]
  },
  {
   "cell_type": "code",
   "execution_count": 19,
   "metadata": {
    "colab": {},
    "colab_type": "code",
    "id": "x20D_rk-I3Kf"
   },
   "outputs": [
    {
     "name": "stdout",
     "output_type": "stream",
     "text": [
      "Model: \"sequential_3\"\n",
      "_________________________________________________________________\n",
      "Layer (type)                 Output Shape              Param #   \n",
      "=================================================================\n",
      "vgg16 (Model)                (None, 1, 1, 512)         14714688  \n",
      "_________________________________________________________________\n",
      "flatten_3 (Flatten)          (None, 512)               0         \n",
      "_________________________________________________________________\n",
      "dense_5 (Dense)              (None, 128)               65664     \n",
      "_________________________________________________________________\n",
      "dropout_3 (Dropout)          (None, 128)               0         \n",
      "_________________________________________________________________\n",
      "dense_6 (Dense)              (None, 10)                1290      \n",
      "=================================================================\n",
      "Total params: 14,781,642\n",
      "Trainable params: 66,954\n",
      "Non-trainable params: 14,714,688\n",
      "_________________________________________________________________\n"
     ]
    }
   ],
   "source": [
    "from keras.applications import VGG16\n",
    "from keras.applications import ResNet50\n",
    "conv_base = VGG16(weights=\"imagenet\",include_top=False,input_shape=(50,50,3))\n",
    "transfer_model = Sequential()\n",
    "transfer_model.add(conv_base)\n",
    "transfer_model.add(Flatten())\n",
    "transfer_model.add(Dense(128, activation=\"relu\"))\n",
    "transfer_model.add(Dropout(0.3))\n",
    "transfer_model.add(Dense(10, activation=\"softmax\"))   \n",
    "conv_base.trainable = False\n",
    "transfer_model.summary()"
   ]
  },
  {
   "cell_type": "code",
   "execution_count": 6,
   "metadata": {
    "colab": {
     "base_uri": "https://localhost:8080/",
     "height": 34
    },
    "colab_type": "code",
    "id": "0WXZ51lDp6wc",
    "outputId": "ac6aed1a-e866-4740-c879-f2f77091b74c"
   },
   "outputs": [],
   "source": [
    "from keras.utils import to_categorical\n",
    "#load the data\n",
    "Y_train = to_categorical(y_train, 10)\n",
    "Y_test = to_categorical(y_test, 10)\n",
    "\n",
    "x_train = np.dstack([x_train] * 3)\n",
    "x_test = np.dstack([x_test] * 3)"
   ]
  },
  {
   "cell_type": "code",
   "execution_count": 8,
   "metadata": {},
   "outputs": [],
   "source": [
    "from keras.preprocessing.image import img_to_array, array_to_img\n",
    "x_train = x_train.reshape(-1, 28, 28, 3)\n",
    "x_test = x_test.reshape (-1, 28, 28, 3)\n",
    "x_train = np.asarray([img_to_array(array_to_img(im, scale=False).resize((50,50))) for im in x_train])/255.\n",
    "x_test = np.asarray([img_to_array(array_to_img(im, scale=False).resize((50,50))) for im in x_test])/255."
   ]
  },
  {
   "cell_type": "code",
   "execution_count": 9,
   "metadata": {},
   "outputs": [
    {
     "data": {
      "text/plain": [
       "((60000, 50, 50, 3), (10000, 50, 50, 3))"
      ]
     },
     "execution_count": 9,
     "metadata": {},
     "output_type": "execute_result"
    }
   ],
   "source": [
    "x_train.shape, x_test.shape"
   ]
  },
  {
   "cell_type": "code",
   "execution_count": 21,
   "metadata": {
    "colab": {
     "base_uri": "https://localhost:8080/",
     "height": 34
    },
    "colab_type": "code",
    "id": "d7aTlXYluJNF",
    "outputId": "16d231e4-6e2b-4e22-ba37-2ed1fe49ac56"
   },
   "outputs": [],
   "source": [
    "conv_base.trainable = False\n",
    "transfer_model.compile(loss=\"categorical_crossentropy\", optimizer='adam',metrics=[\"acc\"])"
   ]
  },
  {
   "cell_type": "code",
   "execution_count": 22,
   "metadata": {
    "colab": {},
    "colab_type": "code",
    "id": "OamZyUp5ROYY"
   },
   "outputs": [
    {
     "name": "stdout",
     "output_type": "stream",
     "text": [
      "Train on 54000 samples, validate on 6000 samples\n",
      "Epoch 1/5\n",
      "54000/54000 [==============================] - 1252s 23ms/step - loss: 0.7107 - acc: 0.7514 - val_loss: 0.5475 - val_acc: 0.7997\n",
      "Epoch 2/5\n",
      "54000/54000 [==============================] - 1275s 24ms/step - loss: 0.5236 - acc: 0.8128 - val_loss: 0.4735 - val_acc: 0.8253\n",
      "Epoch 3/5\n",
      "54000/54000 [==============================] - 1473s 27ms/step - loss: 0.4825 - acc: 0.8264 - val_loss: 0.4477 - val_acc: 0.8343\n",
      "Epoch 4/5\n",
      "54000/54000 [==============================] - 1281s 24ms/step - loss: 0.4571 - acc: 0.8336 - val_loss: 0.4366 - val_acc: 0.8393\n",
      "Epoch 5/5\n",
      "54000/54000 [==============================] - 1284s 24ms/step - loss: 0.4414 - acc: 0.8384 - val_loss: 0.4282 - val_acc: 0.8432\n"
     ]
    }
   ],
   "source": [
    "history = transfer_model.fit(x_train, Y_train,\n",
    "          epochs=5,\n",
    "          batch_size=64,\n",
    "          validation_split = 0.1)"
   ]
  },
  {
   "cell_type": "code",
   "execution_count": 24,
   "metadata": {},
   "outputs": [
    {
     "name": "stdout",
     "output_type": "stream",
     "text": [
      "10000/10000 [==============================] - 227s 23ms/step\n",
      "Test loss: 0.44428773880004885\n",
      "Test accuracy: 0.8410000205039978\n"
     ]
    }
   ],
   "source": [
    "# Evaluate Model \n",
    "result = transfer_model.evaluate(x_test, Y_test)\n",
    "print('Test loss:', result[0])\n",
    "print('Test accuracy:', result[1])"
   ]
  },
  {
   "cell_type": "markdown",
   "metadata": {
    "colab_type": "text",
    "id": "AEgwf0r7ihFO"
   },
   "source": [
    "# 3. Text Classification"
   ]
  },
  {
   "cell_type": "markdown",
   "metadata": {},
   "source": [
    "1. LSTM"
   ]
  },
  {
   "cell_type": "code",
   "execution_count": 25,
   "metadata": {
    "colab": {},
    "colab_type": "code",
    "id": "LbIwup8mikb6"
   },
   "outputs": [],
   "source": [
    "import pandas as pd"
   ]
  },
  {
   "cell_type": "code",
   "execution_count": 102,
   "metadata": {},
   "outputs": [
    {
     "data": {
      "text/html": [
       "<div>\n",
       "<style scoped>\n",
       "    .dataframe tbody tr th:only-of-type {\n",
       "        vertical-align: middle;\n",
       "    }\n",
       "\n",
       "    .dataframe tbody tr th {\n",
       "        vertical-align: top;\n",
       "    }\n",
       "\n",
       "    .dataframe thead th {\n",
       "        text-align: right;\n",
       "    }\n",
       "</style>\n",
       "<table border=\"1\" class=\"dataframe\">\n",
       "  <thead>\n",
       "    <tr style=\"text-align: right;\">\n",
       "      <th></th>\n",
       "      <th>id</th>\n",
       "      <th>tweet</th>\n",
       "      <th>k1</th>\n",
       "      <th>k2</th>\n",
       "      <th>k3</th>\n",
       "      <th>k4</th>\n",
       "      <th>k5</th>\n",
       "      <th>k6</th>\n",
       "      <th>k7</th>\n",
       "      <th>k8</th>\n",
       "      <th>k9</th>\n",
       "      <th>k10</th>\n",
       "      <th>k11</th>\n",
       "      <th>k12</th>\n",
       "      <th>k13</th>\n",
       "      <th>k14</th>\n",
       "      <th>k15</th>\n",
       "    </tr>\n",
       "  </thead>\n",
       "  <tbody>\n",
       "    <tr>\n",
       "      <td>0</td>\n",
       "      <td>1</td>\n",
       "      <td>Jazz for a Rainy Afternoon:  {link}</td>\n",
       "      <td>0.0</td>\n",
       "      <td>0.0</td>\n",
       "      <td>0.0</td>\n",
       "      <td>0.0</td>\n",
       "      <td>0.0</td>\n",
       "      <td>0.0</td>\n",
       "      <td>0.000</td>\n",
       "      <td>0.0</td>\n",
       "      <td>0.000</td>\n",
       "      <td>1.0</td>\n",
       "      <td>0.0</td>\n",
       "      <td>0.0</td>\n",
       "      <td>0.000</td>\n",
       "      <td>0.0</td>\n",
       "      <td>0.0</td>\n",
       "    </tr>\n",
       "    <tr>\n",
       "      <td>1</td>\n",
       "      <td>2</td>\n",
       "      <td>RT: @mention: I love rainy days.</td>\n",
       "      <td>0.0</td>\n",
       "      <td>0.0</td>\n",
       "      <td>0.0</td>\n",
       "      <td>0.0</td>\n",
       "      <td>0.0</td>\n",
       "      <td>0.0</td>\n",
       "      <td>0.000</td>\n",
       "      <td>0.0</td>\n",
       "      <td>0.000</td>\n",
       "      <td>1.0</td>\n",
       "      <td>0.0</td>\n",
       "      <td>0.0</td>\n",
       "      <td>0.000</td>\n",
       "      <td>0.0</td>\n",
       "      <td>0.0</td>\n",
       "    </tr>\n",
       "    <tr>\n",
       "      <td>2</td>\n",
       "      <td>3</td>\n",
       "      <td>Good Morning Chicago! Time to kick the Windy C...</td>\n",
       "      <td>0.0</td>\n",
       "      <td>0.0</td>\n",
       "      <td>0.0</td>\n",
       "      <td>0.0</td>\n",
       "      <td>0.0</td>\n",
       "      <td>0.0</td>\n",
       "      <td>1.000</td>\n",
       "      <td>0.0</td>\n",
       "      <td>0.000</td>\n",
       "      <td>0.0</td>\n",
       "      <td>0.0</td>\n",
       "      <td>0.0</td>\n",
       "      <td>0.000</td>\n",
       "      <td>0.0</td>\n",
       "      <td>0.0</td>\n",
       "    </tr>\n",
       "    <tr>\n",
       "      <td>3</td>\n",
       "      <td>6</td>\n",
       "      <td>Preach lol! :) RT @mention: #alliwantis this t...</td>\n",
       "      <td>0.0</td>\n",
       "      <td>0.0</td>\n",
       "      <td>0.0</td>\n",
       "      <td>0.0</td>\n",
       "      <td>0.0</td>\n",
       "      <td>0.0</td>\n",
       "      <td>0.604</td>\n",
       "      <td>0.0</td>\n",
       "      <td>0.196</td>\n",
       "      <td>0.0</td>\n",
       "      <td>0.0</td>\n",
       "      <td>0.0</td>\n",
       "      <td>0.201</td>\n",
       "      <td>0.0</td>\n",
       "      <td>0.0</td>\n",
       "    </tr>\n",
       "    <tr>\n",
       "      <td>4</td>\n",
       "      <td>9</td>\n",
       "      <td>@mention good morning sunshine</td>\n",
       "      <td>0.0</td>\n",
       "      <td>0.0</td>\n",
       "      <td>0.0</td>\n",
       "      <td>0.0</td>\n",
       "      <td>0.0</td>\n",
       "      <td>0.0</td>\n",
       "      <td>0.000</td>\n",
       "      <td>0.0</td>\n",
       "      <td>0.000</td>\n",
       "      <td>0.0</td>\n",
       "      <td>0.0</td>\n",
       "      <td>0.0</td>\n",
       "      <td>1.000</td>\n",
       "      <td>0.0</td>\n",
       "      <td>0.0</td>\n",
       "    </tr>\n",
       "  </tbody>\n",
       "</table>\n",
       "</div>"
      ],
      "text/plain": [
       "   id                                              tweet   k1   k2   k3   k4  \\\n",
       "0   1                Jazz for a Rainy Afternoon:  {link}  0.0  0.0  0.0  0.0   \n",
       "1   2                   RT: @mention: I love rainy days.  0.0  0.0  0.0  0.0   \n",
       "2   3  Good Morning Chicago! Time to kick the Windy C...  0.0  0.0  0.0  0.0   \n",
       "3   6  Preach lol! :) RT @mention: #alliwantis this t...  0.0  0.0  0.0  0.0   \n",
       "4   9                     @mention good morning sunshine  0.0  0.0  0.0  0.0   \n",
       "\n",
       "    k5   k6     k7   k8     k9  k10  k11  k12    k13  k14  k15  \n",
       "0  0.0  0.0  0.000  0.0  0.000  1.0  0.0  0.0  0.000  0.0  0.0  \n",
       "1  0.0  0.0  0.000  0.0  0.000  1.0  0.0  0.0  0.000  0.0  0.0  \n",
       "2  0.0  0.0  1.000  0.0  0.000  0.0  0.0  0.0  0.000  0.0  0.0  \n",
       "3  0.0  0.0  0.604  0.0  0.196  0.0  0.0  0.0  0.201  0.0  0.0  \n",
       "4  0.0  0.0  0.000  0.0  0.000  0.0  0.0  0.0  1.000  0.0  0.0  "
      ]
     },
     "execution_count": 102,
     "metadata": {},
     "output_type": "execute_result"
    }
   ],
   "source": [
    "df= pd.read_csv('tweets_with_labels.csv',sep='\\t')\n",
    "df.head(5)"
   ]
  },
  {
   "cell_type": "code",
   "execution_count": 44,
   "metadata": {},
   "outputs": [],
   "source": [
    "# pre-process the data\n",
    "import preprocessor as p\n",
    "import re \n",
    "p.set_options(p.OPT.URL, p.OPT.MENTION,p.OPT.SMILEY,p.OPT.RESERVED,p.OPT.EMOJI,)\n",
    "def clean_tweet (i):  \n",
    "    content_only= p.clean(i)\n",
    "    remove_punc = re.sub(r'[^a-zA-Z0-9\\s]', ' ', content_only)\n",
    "    return remove_punc\n",
    "df['tweet_cleaned'] = [clean_tweet(i) for i in df['tweet']]"
   ]
  },
  {
   "cell_type": "code",
   "execution_count": 45,
   "metadata": {},
   "outputs": [],
   "source": [
    "# turn the sum of all rows into 1 in order to fit in softmax\n",
    "df['sum']= df.iloc[:,2:].sum(axis=1)\n",
    "df_c= df[['k1', 'k2', 'k3', 'k4', 'k5', 'k6', 'k7', 'k8', 'k9', 'k10', 'k11',\n",
    "       'k12', 'k13', 'k14', 'k15']].div(df['sum'],axis=0)"
   ]
  },
  {
   "cell_type": "code",
   "execution_count": 46,
   "metadata": {},
   "outputs": [
    {
     "name": "stdout",
     "output_type": "stream",
     "text": [
      "(77946, 19)\n",
      "(77946, 19)\n"
     ]
    }
   ],
   "source": [
    "# check if above is succssful\n",
    "print(df.shape)\n",
    "print(df[(df_c.sum(axis=1)-1)<0.001].shape)"
   ]
  },
  {
   "cell_type": "code",
   "execution_count": 48,
   "metadata": {},
   "outputs": [
    {
     "data": {
      "text/plain": [
       "59"
      ]
     },
     "execution_count": 48,
     "metadata": {},
     "output_type": "execute_result"
    }
   ],
   "source": [
    "len_tweet = []\n",
    "for i in df['tweet']:\n",
    "    length = len(i.split(' '))\n",
    "    len_tweet.append(length)\n",
    "max(len_tweet)"
   ]
  },
  {
   "cell_type": "code",
   "execution_count": 52,
   "metadata": {},
   "outputs": [],
   "source": [
    "from keras import preprocessing\n",
    "\n",
    "# The maximum number of words to be used. (most frequent)\n",
    "MAX_NB_WORDS = 4000\n",
    "# Max number of words in each complaint.\n",
    "MAX_SEQUENCE_LENGTH = 60\n",
    "EMBEDDING_DIM = 64\n",
    "\n",
    "tokenizer = preprocessing.text.Tokenizer(num_words=MAX_NB_WORDS, filters='!\"#$%&()*+,-./:;<=>?@[\\]^_`{|}~', lower=True)"
   ]
  },
  {
   "cell_type": "code",
   "execution_count": 53,
   "metadata": {},
   "outputs": [
    {
     "name": "stdout",
     "output_type": "stream",
     "text": [
      "Found 42127 unique tokens.\n"
     ]
    }
   ],
   "source": [
    "# how many unique tokens for cleaned tweets?\n",
    "tokenizer.fit_on_texts(df['tweet_cleaned'].values)\n",
    "word_index = tokenizer.word_index \n",
    "print('Found %s unique tokens.' % len(word_index))"
   ]
  },
  {
   "cell_type": "code",
   "execution_count": 54,
   "metadata": {},
   "outputs": [
    {
     "name": "stdout",
     "output_type": "stream",
     "text": [
      "Shape of data tensor: (77946, 60)\n"
     ]
    }
   ],
   "source": [
    "X = tokenizer.texts_to_sequences(df['tweet'].values)\n",
    "X = preprocessing.sequence.pad_sequences(X, maxlen=MAX_SEQUENCE_LENGTH)\n",
    "print('Shape of data tensor:', X.shape)"
   ]
  },
  {
   "cell_type": "code",
   "execution_count": 55,
   "metadata": {},
   "outputs": [],
   "source": [
    "Y = df_c[['k1', 'k2', 'k3', 'k4', 'k5', 'k6', 'k7', 'k8', 'k9', 'k10', 'k11',\n",
    "       'k12', 'k13', 'k14', 'k15']].values"
   ]
  },
  {
   "cell_type": "code",
   "execution_count": 56,
   "metadata": {},
   "outputs": [
    {
     "name": "stdout",
     "output_type": "stream",
     "text": [
      "(54562, 60) (54562, 15)\n",
      "(23384, 60) (23384, 15)\n"
     ]
    }
   ],
   "source": [
    "from sklearn.model_selection import train_test_split\n",
    "\n",
    "X_train, X_test, Y_train, Y_test = train_test_split(X, Y, test_size = 0.3, random_state = 2)\n",
    "print(X_train.shape,Y_train.shape)\n",
    "print(X_test.shape,Y_test.shape)"
   ]
  },
  {
   "cell_type": "code",
   "execution_count": 59,
   "metadata": {},
   "outputs": [],
   "source": [
    "from keras.models import Sequential\n",
    "from keras.layers import Dense, Activation, Embedding,SpatialDropout1D,LSTM\n",
    "\n",
    "txt_1 = Sequential()\n",
    "txt_1.add(Embedding(MAX_NB_WORDS, EMBEDDING_DIM, input_length=X_test.shape[1]))\n",
    "txt_1.add(SpatialDropout1D(0.2))\n",
    "txt_1.add(LSTM(64, dropout=0.2, recurrent_dropout=0.2))\n",
    "txt_1.add(Dense(15, activation='softmax'))\n",
    "txt_1.compile(loss='categorical_crossentropy', optimizer='adam', metrics=['accuracy'])"
   ]
  },
  {
   "cell_type": "code",
   "execution_count": 61,
   "metadata": {},
   "outputs": [
    {
     "name": "stdout",
     "output_type": "stream",
     "text": [
      "Train on 49105 samples, validate on 5457 samples\n",
      "Epoch 1/8\n",
      "49105/49105 [==============================] - 62s 1ms/step - loss: 1.0144 - accuracy: 0.7881 - val_loss: 0.8930 - val_accuracy: 0.8184\n",
      "Epoch 2/8\n",
      "49105/49105 [==============================] - 61s 1ms/step - loss: 0.8782 - accuracy: 0.8203 - val_loss: 0.8473 - val_accuracy: 0.8274\n",
      "Epoch 3/8\n",
      "49105/49105 [==============================] - 60s 1ms/step - loss: 0.8332 - accuracy: 0.8279 - val_loss: 0.8268 - val_accuracy: 0.8287\n",
      "Epoch 4/8\n",
      "49105/49105 [==============================] - 59s 1ms/step - loss: 0.8085 - accuracy: 0.8307 - val_loss: 0.8171 - val_accuracy: 0.8334\n",
      "Epoch 5/8\n",
      "49105/49105 [==============================] - 59s 1ms/step - loss: 0.7909 - accuracy: 0.8361 - val_loss: 0.8122 - val_accuracy: 0.8378\n",
      "Epoch 6/8\n",
      "49105/49105 [==============================] - 68s 1ms/step - loss: 0.7775 - accuracy: 0.8383 - val_loss: 0.8109 - val_accuracy: 0.8360\n",
      "Epoch 7/8\n",
      "49105/49105 [==============================] - 67s 1ms/step - loss: 0.7670 - accuracy: 0.8417 - val_loss: 0.8095 - val_accuracy: 0.8419\n",
      "Epoch 8/8\n",
      "49105/49105 [==============================] - 62s 1ms/step - loss: 0.7574 - accuracy: 0.8453 - val_loss: 0.8096 - val_accuracy: 0.8404\n"
     ]
    }
   ],
   "source": [
    "epochs = 8\n",
    "batch_size = 64\n",
    "\n",
    "history = txt_1.fit(X_train, Y_train, epochs=epochs, batch_size=batch_size,validation_split=0.1)"
   ]
  },
  {
   "cell_type": "code",
   "execution_count": 62,
   "metadata": {},
   "outputs": [
    {
     "name": "stdout",
     "output_type": "stream",
     "text": [
      "23384/23384 [==============================] - 11s 462us/step\n",
      "Test set\n",
      "  Loss: 0.828\n",
      "  Accuracy: 0.831\n"
     ]
    }
   ],
   "source": [
    "accr = txt_1.evaluate(X_test,Y_test)\n",
    "print('Test set\\n  Loss: {:0.3f}\\n  Accuracy: {:0.3f}'.format(accr[0],accr[1]))"
   ]
  },
  {
   "cell_type": "markdown",
   "metadata": {},
   "source": [
    "2. CNN"
   ]
  },
  {
   "cell_type": "code",
   "execution_count": 89,
   "metadata": {},
   "outputs": [],
   "source": [
    "from keras.layers import Dropout, Conv1D,GlobalMaxPool1D\n",
    "txt_c1 = Sequential()\n",
    "txt_c1.add(Embedding(MAX_NB_WORDS, EMBEDDING_DIM, input_length=X_test.shape[1]))\n",
    "txt_c1.add(Dropout(0.2))\n",
    "txt_c1.add(Conv1D(64, 3, padding='valid', activation='relu', strides=1))\n",
    "txt_c1.add(GlobalMaxPool1D())\n",
    "txt_c1.add(Dense(64,activation='relu'))\n",
    "txt_c1.add(Dense(15, activation='softmax'))\n",
    "\n",
    "adam = optimizers.Adam(beta_1=0.9, beta_2=0.999, amsgrad=False)\n",
    "txt_c1.compile(loss='categorical_crossentropy', optimizer=adam, metrics=['accuracy'])"
   ]
  },
  {
   "cell_type": "code",
   "execution_count": 90,
   "metadata": {},
   "outputs": [
    {
     "name": "stderr",
     "output_type": "stream",
     "text": [
      "/Users/apple/opt/anaconda3/lib/python3.7/site-packages/tensorflow_core/python/framework/indexed_slices.py:424: UserWarning: Converting sparse IndexedSlices to a dense Tensor of unknown shape. This may consume a large amount of memory.\n",
      "  \"Converting sparse IndexedSlices to a dense Tensor of unknown shape. \"\n"
     ]
    },
    {
     "name": "stdout",
     "output_type": "stream",
     "text": [
      "Train on 49105 samples, validate on 5457 samples\n",
      "Epoch 1/8\n",
      "49105/49105 [==============================] - 16s 330us/step - loss: 1.1689 - accuracy: 0.7252 - val_loss: 0.8724 - val_accuracy: 0.8252\n",
      "Epoch 2/8\n",
      "49105/49105 [==============================] - 14s 292us/step - loss: 0.8447 - accuracy: 0.8245 - val_loss: 0.8347 - val_accuracy: 0.8351\n",
      "Epoch 3/8\n",
      "49105/49105 [==============================] - 14s 285us/step - loss: 0.8054 - accuracy: 0.8321 - val_loss: 0.8146 - val_accuracy: 0.8397\n",
      "Epoch 4/8\n",
      "49105/49105 [==============================] - 14s 287us/step - loss: 0.7770 - accuracy: 0.8379 - val_loss: 0.8101 - val_accuracy: 0.8393\n",
      "Epoch 5/8\n",
      "49105/49105 [==============================] - 14s 288us/step - loss: 0.7578 - accuracy: 0.8445 - val_loss: 0.8148 - val_accuracy: 0.8351\n",
      "Epoch 6/8\n",
      "49105/49105 [==============================] - 14s 289us/step - loss: 0.7408 - accuracy: 0.8479 - val_loss: 0.8165 - val_accuracy: 0.8310\n",
      "Epoch 7/8\n",
      "49105/49105 [==============================] - 14s 288us/step - loss: 0.7256 - accuracy: 0.8505 - val_loss: 0.8254 - val_accuracy: 0.8349\n",
      "Epoch 8/8\n",
      "49105/49105 [==============================] - 14s 292us/step - loss: 0.7130 - accuracy: 0.8523 - val_loss: 0.8352 - val_accuracy: 0.8285\n"
     ]
    }
   ],
   "source": [
    "epochs = 8\n",
    "batch_size = 64\n",
    "\n",
    "history2 = txt_c1.fit(X_train, Y_train, epochs=epochs, batch_size=batch_size,validation_split=0.1)"
   ]
  },
  {
   "cell_type": "code",
   "execution_count": 91,
   "metadata": {},
   "outputs": [
    {
     "name": "stdout",
     "output_type": "stream",
     "text": [
      "23384/23384 [==============================] - 2s 98us/step\n",
      "Test set\n",
      "  Loss: 0.850\n",
      "  Accuracy: 0.818\n"
     ]
    }
   ],
   "source": [
    "accr = txt_c1.evaluate(X_test,Y_test)\n",
    "print('Test set\\n  Loss: {:0.3f}\\n  Accuracy: {:0.3f}'.format(accr[0],accr[1]))"
   ]
  },
  {
   "cell_type": "markdown",
   "metadata": {},
   "source": [
    "### 3. Comparison"
   ]
  },
  {
   "cell_type": "markdown",
   "metadata": {},
   "source": [
    "On test set, both models performs well and there's little overfitting. The RNN model slightly outperforms CNN\n",
    "- RNN test accuracy = 0.831\n",
    "- CNN test accuracy = 0.818\n",
    "\n",
    "On training set, RNN also outperforms CNN, especially on validation set. We can plot the accuracy below"
   ]
  },
  {
   "cell_type": "code",
   "execution_count": 100,
   "metadata": {},
   "outputs": [
    {
     "data": {
      "image/png": "[encoded data removed]",
      "text/plain": [
       "<Figure size 1008x360 with 2 Axes>"
      ]
     },
     "metadata": {
      "needs_background": "light"
     },
     "output_type": "display_data"
    }
   ],
   "source": [
    "plt.figure(figsize=(14,5))\n",
    "plt.subplot(1, 2, 1)\n",
    "\n",
    "plt.plot(history.history['accuracy'])\n",
    "plt.plot(history.history['val_accuracy'])\n",
    "plt.title('RNN Model Train & Validation Accuracy')\n",
    "plt.ylabel('Accuracy')\n",
    "plt.xlabel('Epoch')\n",
    "plt.legend(['train', 'val'])\n",
    "\n",
    "plt.subplot(1, 2, 2)\n",
    "plt.plot(history2.history['accuracy'])\n",
    "plt.plot(history2.history['val_accuracy'])\n",
    "\n",
    "plt.title('CNN Model Train & Validation Accuracy')\n",
    "plt.ylabel('Accuracy')\n",
    "plt.xlabel('Epoch')\n",
    "plt.legend(['train', 'val'])\n",
    "plt.show()"
   ]
  }
 ],
 "metadata": {
  "colab": {
   "collapsed_sections": [],
   "name": "ANLY590_HW3.ipynb",
   "provenance": []
  },
  "kernelspec": {
   "display_name": "Python 3",
   "language": "python",
   "name": "python3"
  },
  "language_info": {
   "codemirror_mode": {
    "name": "ipython",
    "version": 3
   },
   "file_extension": ".py",
   "mimetype": "text/x-python",
   "name": "python",
   "nbconvert_exporter": "python",
   "pygments_lexer": "ipython3",
   "version": "3.7.4"
  }
 },
 "nbformat": 4,
 "nbformat_minor": 1
}

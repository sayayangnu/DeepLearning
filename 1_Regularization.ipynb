{
 "cells": [
  {
   "cell_type": "markdown",
   "metadata": {},
   "source": [
    "# ANLY590 HW1 Tianyi Yang"
   ]
  },
  {
   "cell_type": "code",
   "execution_count": 159,
   "metadata": {},
   "outputs": [],
   "source": [
    "import pandas as pd\n",
    "from sklearn import linear_model\n",
    "from sklearn.linear_model import LassoCV\n",
    "import numpy as np\n",
    "import seaborn as sns\n",
    "import matplotlib.pyplot as plt"
   ]
  },
  {
   "cell_type": "markdown",
   "metadata": {},
   "source": [
    "## 1. \n",
    "\n",
    "**Regularization. Using the accompanying Hitters dataset, we will explore\n",
    "regression models to predict a player's Salary from other variables.**"
   ]
  },
  {
   "cell_type": "code",
   "execution_count": 156,
   "metadata": {},
   "outputs": [],
   "source": [
    "ht = pd.read_csv(\"Hitters.csv\")"
   ]
  },
  {
   "cell_type": "markdown",
   "metadata": {},
   "source": [
    "### 1.1\n",
    "\n",
    "**Use LASSO regression to predict Salary from the other numeric predictors.\n",
    "Create a visualization of the coefficient trajectories. Comment on which are the\n",
    "final three predictors that remain in the model. Use cross-validation to find the\n",
    "optimal value of the regularization penality. How many predictors are left in\n",
    "that model?**"
   ]
  },
  {
   "cell_type": "code",
   "execution_count": 11,
   "metadata": {},
   "outputs": [],
   "source": [
    "# Drop NA values in ht dataset\n",
    "ht_c = ht.dropna(axis=0,subset=['Salary'])"
   ]
  },
  {
   "cell_type": "code",
   "execution_count": 15,
   "metadata": {},
   "outputs": [],
   "source": [
    "# Keep only numeric columns\n",
    "ht_c = ht_c[['AtBat', 'Hits', 'HmRun', 'Runs', 'RBI', 'Walks', 'Years',\n",
    "       'CAtBat', 'CHits', 'CHmRun', 'CRuns', 'CRBI', 'CWalks', 'PutOuts', 'Assists', 'Errors', 'Salary']]"
   ]
  },
  {
   "cell_type": "code",
   "execution_count": 17,
   "metadata": {},
   "outputs": [],
   "source": [
    "ht_X = ht_c[['AtBat', 'Hits', 'HmRun', 'Runs', 'RBI', 'Walks', 'Years',\n",
    "       'CAtBat', 'CHits', 'CHmRun', 'CRuns', 'CRBI', 'CWalks', 'PutOuts', 'Assists', 'Errors']]"
   ]
  },
  {
   "cell_type": "code",
   "execution_count": 20,
   "metadata": {},
   "outputs": [],
   "source": [
    "ht_Y = ht_c['Salary']"
   ]
  },
  {
   "cell_type": "code",
   "execution_count": 214,
   "metadata": {},
   "outputs": [],
   "source": [
    "# write a function that will return the coefficient\n",
    "def get_coef(my_alpha):\n",
    "    model = linear_model.Lasso(alpha=my_alpha,max_iter=10000)\n",
    "    model.fit(ht_X,ht_Y)\n",
    "    return(model.coef_)"
   ]
  },
  {
   "cell_type": "code",
   "execution_count": 215,
   "metadata": {},
   "outputs": [],
   "source": [
    "# create a dataframe to store the results\n",
    "my_alphas = [0.01,0.1,1,100,1000,3000,5000,8000,10000]\n",
    "lasso_results = pd.DataFrame(index=np.arange(0, len(my_alphas)), columns=ht_X.columns)"
   ]
  },
  {
   "cell_type": "code",
   "execution_count": 216,
   "metadata": {},
   "outputs": [],
   "source": [
    "# record coefficients for different alpha values\n",
    "for i in range(len(my_alphas)):  \n",
    "    lasso_results.iloc[i] = get_coef(my_alphas[i])"
   ]
  },
  {
   "cell_type": "code",
   "execution_count": 217,
   "metadata": {},
   "outputs": [
    {
     "data": {
      "text/html": [
       "<div>\n",
       "<style scoped>\n",
       "    .dataframe tbody tr th:only-of-type {\n",
       "        vertical-align: middle;\n",
       "    }\n",
       "\n",
       "    .dataframe tbody tr th {\n",
       "        vertical-align: top;\n",
       "    }\n",
       "\n",
       "    .dataframe thead th {\n",
       "        text-align: right;\n",
       "    }\n",
       "</style>\n",
       "<table border=\"1\" class=\"dataframe\">\n",
       "  <thead>\n",
       "    <tr style=\"text-align: right;\">\n",
       "      <th></th>\n",
       "      <th>AtBat</th>\n",
       "      <th>Hits</th>\n",
       "      <th>HmRun</th>\n",
       "      <th>Runs</th>\n",
       "      <th>RBI</th>\n",
       "      <th>Walks</th>\n",
       "      <th>Years</th>\n",
       "      <th>CAtBat</th>\n",
       "      <th>CHits</th>\n",
       "      <th>CHmRun</th>\n",
       "      <th>CRuns</th>\n",
       "      <th>CRBI</th>\n",
       "      <th>CWalks</th>\n",
       "      <th>PutOuts</th>\n",
       "      <th>Assists</th>\n",
       "      <th>Errors</th>\n",
       "      <th>alphas</th>\n",
       "    </tr>\n",
       "  </thead>\n",
       "  <tbody>\n",
       "    <tr>\n",
       "      <th>0</th>\n",
       "      <td>-2.20295</td>\n",
       "      <td>7.82719</td>\n",
       "      <td>2.16164</td>\n",
       "      <td>-2.09881</td>\n",
       "      <td>-0.0223033</td>\n",
       "      <td>6.15075</td>\n",
       "      <td>-2.58821</td>\n",
       "      <td>-0.176304</td>\n",
       "      <td>0.0699048</td>\n",
       "      <td>-0.232744</td>\n",
       "      <td>1.60994</td>\n",
       "      <td>0.801293</td>\n",
       "      <td>-0.793897</td>\n",
       "      <td>0.294575</td>\n",
       "      <td>0.383982</td>\n",
       "      <td>-2.87822</td>\n",
       "      <td>0.01</td>\n",
       "    </tr>\n",
       "    <tr>\n",
       "      <th>1</th>\n",
       "      <td>-2.20228</td>\n",
       "      <td>7.82207</td>\n",
       "      <td>2.14446</td>\n",
       "      <td>-2.092</td>\n",
       "      <td>-0.0167902</td>\n",
       "      <td>6.14794</td>\n",
       "      <td>-2.55083</td>\n",
       "      <td>-0.176559</td>\n",
       "      <td>0.0711934</td>\n",
       "      <td>-0.229652</td>\n",
       "      <td>1.60892</td>\n",
       "      <td>0.800079</td>\n",
       "      <td>-0.793497</td>\n",
       "      <td>0.294591</td>\n",
       "      <td>0.383865</td>\n",
       "      <td>-2.87382</td>\n",
       "      <td>0.10</td>\n",
       "    </tr>\n",
       "    <tr>\n",
       "      <th>2</th>\n",
       "      <td>-2.19468</td>\n",
       "      <td>7.78039</td>\n",
       "      <td>2.037</td>\n",
       "      <td>-2.03339</td>\n",
       "      <td>0.00331031</td>\n",
       "      <td>6.12475</td>\n",
       "      <td>-2.17017</td>\n",
       "      <td>-0.179146</td>\n",
       "      <td>0.0827188</td>\n",
       "      <td>-0.205318</td>\n",
       "      <td>1.60009</td>\n",
       "      <td>0.791568</td>\n",
       "      <td>-0.790099</td>\n",
       "      <td>0.294722</td>\n",
       "      <td>0.382654</td>\n",
       "      <td>-2.82581</td>\n",
       "      <td>1.00</td>\n",
       "    </tr>\n",
       "    <tr>\n",
       "      <th>3</th>\n",
       "      <td>-1.73199</td>\n",
       "      <td>5.87715</td>\n",
       "      <td>0</td>\n",
       "      <td>-0</td>\n",
       "      <td>0</td>\n",
       "      <td>4.76735</td>\n",
       "      <td>-0</td>\n",
       "      <td>-0.226468</td>\n",
       "      <td>0.336511</td>\n",
       "      <td>0</td>\n",
       "      <td>1.28545</td>\n",
       "      <td>0.745472</td>\n",
       "      <td>-0.598519</td>\n",
       "      <td>0.290427</td>\n",
       "      <td>0.26543</td>\n",
       "      <td>-0</td>\n",
       "      <td>100.00</td>\n",
       "    </tr>\n",
       "    <tr>\n",
       "      <th>4</th>\n",
       "      <td>0.193946</td>\n",
       "      <td>1.03466</td>\n",
       "      <td>0</td>\n",
       "      <td>0</td>\n",
       "      <td>0</td>\n",
       "      <td>0</td>\n",
       "      <td>-0</td>\n",
       "      <td>-0.300821</td>\n",
       "      <td>0.706684</td>\n",
       "      <td>0</td>\n",
       "      <td>0.801895</td>\n",
       "      <td>0.614929</td>\n",
       "      <td>0</td>\n",
       "      <td>0.289224</td>\n",
       "      <td>0.0980247</td>\n",
       "      <td>-0</td>\n",
       "      <td>1000.00</td>\n",
       "    </tr>\n",
       "    <tr>\n",
       "      <th>5</th>\n",
       "      <td>0.518537</td>\n",
       "      <td>0</td>\n",
       "      <td>0</td>\n",
       "      <td>0</td>\n",
       "      <td>0</td>\n",
       "      <td>0</td>\n",
       "      <td>-0</td>\n",
       "      <td>-0.0985145</td>\n",
       "      <td>0.304729</td>\n",
       "      <td>0</td>\n",
       "      <td>0.378876</td>\n",
       "      <td>0.403235</td>\n",
       "      <td>0</td>\n",
       "      <td>0.285849</td>\n",
       "      <td>0</td>\n",
       "      <td>-0</td>\n",
       "      <td>3000.00</td>\n",
       "    </tr>\n",
       "    <tr>\n",
       "      <th>6</th>\n",
       "      <td>0.469737</td>\n",
       "      <td>0</td>\n",
       "      <td>0</td>\n",
       "      <td>0</td>\n",
       "      <td>0</td>\n",
       "      <td>0</td>\n",
       "      <td>-0</td>\n",
       "      <td>0</td>\n",
       "      <td>0.164659</td>\n",
       "      <td>0</td>\n",
       "      <td>0.0710256</td>\n",
       "      <td>0.291088</td>\n",
       "      <td>0</td>\n",
       "      <td>0.280936</td>\n",
       "      <td>0</td>\n",
       "      <td>-0</td>\n",
       "      <td>5000.00</td>\n",
       "    </tr>\n",
       "    <tr>\n",
       "      <th>7</th>\n",
       "      <td>0.358479</td>\n",
       "      <td>0</td>\n",
       "      <td>0</td>\n",
       "      <td>0</td>\n",
       "      <td>0</td>\n",
       "      <td>0</td>\n",
       "      <td>-0</td>\n",
       "      <td>0.061443</td>\n",
       "      <td>0.0622436</td>\n",
       "      <td>0</td>\n",
       "      <td>0</td>\n",
       "      <td>0.124251</td>\n",
       "      <td>0</td>\n",
       "      <td>0.273154</td>\n",
       "      <td>0</td>\n",
       "      <td>-0</td>\n",
       "      <td>8000.00</td>\n",
       "    </tr>\n",
       "    <tr>\n",
       "      <th>8</th>\n",
       "      <td>0.278198</td>\n",
       "      <td>0</td>\n",
       "      <td>0</td>\n",
       "      <td>0</td>\n",
       "      <td>0</td>\n",
       "      <td>0</td>\n",
       "      <td>-0</td>\n",
       "      <td>0.0964114</td>\n",
       "      <td>0</td>\n",
       "      <td>0</td>\n",
       "      <td>0</td>\n",
       "      <td>0</td>\n",
       "      <td>0</td>\n",
       "      <td>0.268759</td>\n",
       "      <td>0</td>\n",
       "      <td>-0</td>\n",
       "      <td>10000.00</td>\n",
       "    </tr>\n",
       "  </tbody>\n",
       "</table>\n",
       "</div>"
      ],
      "text/plain": [
       "      AtBat     Hits    HmRun     Runs         RBI    Walks    Years  \\\n",
       "0  -2.20295  7.82719  2.16164 -2.09881  -0.0223033  6.15075 -2.58821   \n",
       "1  -2.20228  7.82207  2.14446   -2.092  -0.0167902  6.14794 -2.55083   \n",
       "2  -2.19468  7.78039    2.037 -2.03339  0.00331031  6.12475 -2.17017   \n",
       "3  -1.73199  5.87715        0       -0           0  4.76735       -0   \n",
       "4  0.193946  1.03466        0        0           0        0       -0   \n",
       "5  0.518537        0        0        0           0        0       -0   \n",
       "6  0.469737        0        0        0           0        0       -0   \n",
       "7  0.358479        0        0        0           0        0       -0   \n",
       "8  0.278198        0        0        0           0        0       -0   \n",
       "\n",
       "      CAtBat      CHits    CHmRun      CRuns      CRBI    CWalks   PutOuts  \\\n",
       "0  -0.176304  0.0699048 -0.232744    1.60994  0.801293 -0.793897  0.294575   \n",
       "1  -0.176559  0.0711934 -0.229652    1.60892  0.800079 -0.793497  0.294591   \n",
       "2  -0.179146  0.0827188 -0.205318    1.60009  0.791568 -0.790099  0.294722   \n",
       "3  -0.226468   0.336511         0    1.28545  0.745472 -0.598519  0.290427   \n",
       "4  -0.300821   0.706684         0   0.801895  0.614929         0  0.289224   \n",
       "5 -0.0985145   0.304729         0   0.378876  0.403235         0  0.285849   \n",
       "6          0   0.164659         0  0.0710256  0.291088         0  0.280936   \n",
       "7   0.061443  0.0622436         0          0  0.124251         0  0.273154   \n",
       "8  0.0964114          0         0          0         0         0  0.268759   \n",
       "\n",
       "     Assists   Errors    alphas  \n",
       "0   0.383982 -2.87822      0.01  \n",
       "1   0.383865 -2.87382      0.10  \n",
       "2   0.382654 -2.82581      1.00  \n",
       "3    0.26543       -0    100.00  \n",
       "4  0.0980247       -0   1000.00  \n",
       "5          0       -0   3000.00  \n",
       "6          0       -0   5000.00  \n",
       "7          0       -0   8000.00  \n",
       "8          0       -0  10000.00  "
      ]
     },
     "execution_count": 217,
     "metadata": {},
     "output_type": "execute_result"
    }
   ],
   "source": [
    "lasso_results['alphas']=my_alphas\n",
    "lasso_results"
   ]
  },
  {
   "cell_type": "code",
   "execution_count": 218,
   "metadata": {},
   "outputs": [],
   "source": [
    "plot_lasso = pd.melt(lasso_results, ['alphas'])\n",
    "plot_lasso['value']= pd.to_numeric(plot_lasso['value'])\n",
    "plot_lasso['alphas']= pd.to_numeric(plot_lasso['alphas'])"
   ]
  },
  {
   "cell_type": "code",
   "execution_count": 219,
   "metadata": {},
   "outputs": [
    {
     "data": {
      "image/png": "[encoded data removed]",
      "text/plain": [
       "<Figure size 720x720 with 1 Axes>"
      ]
     },
     "metadata": {},
     "output_type": "display_data"
    }
   ],
   "source": [
    "sns.set()\n",
    "plt.figure(figsize=(10,10))\n",
    "ax= sns.lineplot(x='alphas', y='value', hue='variable', \n",
    "             data=plot_lasso)\n",
    "ax.set_title('Trajectories of Coefficients - Lasso').set_fontsize(20)"
   ]
  },
  {
   "cell_type": "markdown",
   "metadata": {},
   "source": [
    "We can see that: The final 3 predictors are: AtBat, CAtBat and PutOuts\t"
   ]
  },
  {
   "cell_type": "code",
   "execution_count": 220,
   "metadata": {},
   "outputs": [
    {
     "name": "stdout",
     "output_type": "stream",
     "text": [
      "optimal_alpha:  540.6556677332911\n"
     ]
    }
   ],
   "source": [
    "lassocv = linear_model.LassoCV(cv=10,max_iter=10000)\n",
    "lassocv.fit(ht_X, ht_Y)\n",
    "print('optimal_alpha: ',lassocv.alpha_)"
   ]
  },
  {
   "cell_type": "code",
   "execution_count": 221,
   "metadata": {},
   "outputs": [
    {
     "name": "stdout",
     "output_type": "stream",
     "text": [
      "For the optimal alpha, there are  9  predictors left\n"
     ]
    }
   ],
   "source": [
    "print('For the optimal alpha, there are ',sum(get_coef(lassocv.alpha_)!=0),' predictors left')"
   ]
  },
  {
   "cell_type": "markdown",
   "metadata": {},
   "source": [
    "## 1.2\n",
    "**Repeat with Ridge Regression. Visualize coe\u000b",
    "ecient trajectories. Use cross-\n",
    "validation to \f",
    "nd the optimal vaule of the regularization penalty.**"
   ]
  },
  {
   "cell_type": "code",
   "execution_count": 185,
   "metadata": {},
   "outputs": [],
   "source": [
    "# write a function that will return the coefficient for Ridge\n",
    "def get_ridge_coef(my_alpha):\n",
    "    model = linear_model.Ridge(alpha=my_alpha,max_iter=10000)\n",
    "    model.fit(ht_X,ht_Y)\n",
    "    return(model.coef_)"
   ]
  },
  {
   "cell_type": "code",
   "execution_count": 184,
   "metadata": {},
   "outputs": [],
   "source": [
    "# create a dataframe to store the results\n",
    "my_alphas = [0.01,0.1,1,100,1000,3000,5000,8000,10000]\n",
    "ridge_results = pd.DataFrame(index=np.arange(0, len(my_alphas)), columns=ht_X.columns)"
   ]
  },
  {
   "cell_type": "code",
   "execution_count": 187,
   "metadata": {},
   "outputs": [],
   "source": [
    "# record coefficients for different alpha values\n",
    "for i in range(len(my_alphas)):  \n",
    "    ridge_results.iloc[i] = get_ridge_coef(my_alphas[i])"
   ]
  },
  {
   "cell_type": "code",
   "execution_count": 188,
   "metadata": {},
   "outputs": [
    {
     "data": {
      "text/html": [
       "<div>\n",
       "<style scoped>\n",
       "    .dataframe tbody tr th:only-of-type {\n",
       "        vertical-align: middle;\n",
       "    }\n",
       "\n",
       "    .dataframe tbody tr th {\n",
       "        vertical-align: top;\n",
       "    }\n",
       "\n",
       "    .dataframe thead th {\n",
       "        text-align: right;\n",
       "    }\n",
       "</style>\n",
       "<table border=\"1\" class=\"dataframe\">\n",
       "  <thead>\n",
       "    <tr style=\"text-align: right;\">\n",
       "      <th></th>\n",
       "      <th>AtBat</th>\n",
       "      <th>Hits</th>\n",
       "      <th>HmRun</th>\n",
       "      <th>Runs</th>\n",
       "      <th>RBI</th>\n",
       "      <th>Walks</th>\n",
       "      <th>Years</th>\n",
       "      <th>CAtBat</th>\n",
       "      <th>CHits</th>\n",
       "      <th>CHmRun</th>\n",
       "      <th>CRuns</th>\n",
       "      <th>CRBI</th>\n",
       "      <th>CWalks</th>\n",
       "      <th>PutOuts</th>\n",
       "      <th>Assists</th>\n",
       "      <th>Errors</th>\n",
       "      <th>alphas</th>\n",
       "    </tr>\n",
       "  </thead>\n",
       "  <tbody>\n",
       "    <tr>\n",
       "      <th>0</th>\n",
       "      <td>-2.20302</td>\n",
       "      <td>7.82775</td>\n",
       "      <td>2.16353</td>\n",
       "      <td>-2.09956</td>\n",
       "      <td>-0.0229113</td>\n",
       "      <td>6.15106</td>\n",
       "      <td>-2.59233</td>\n",
       "      <td>-0.176276</td>\n",
       "      <td>0.0697632</td>\n",
       "      <td>-0.233086</td>\n",
       "      <td>1.61005</td>\n",
       "      <td>0.801427</td>\n",
       "      <td>-0.793941</td>\n",
       "      <td>0.294573</td>\n",
       "      <td>0.383995</td>\n",
       "      <td>-2.87871</td>\n",
       "      <td>0.01</td>\n",
       "    </tr>\n",
       "    <tr>\n",
       "      <th>1</th>\n",
       "      <td>-2.20301</td>\n",
       "      <td>7.82768</td>\n",
       "      <td>2.16339</td>\n",
       "      <td>-2.09948</td>\n",
       "      <td>-0.0228703</td>\n",
       "      <td>6.15102</td>\n",
       "      <td>-2.59194</td>\n",
       "      <td>-0.17628</td>\n",
       "      <td>0.0697774</td>\n",
       "      <td>-0.233062</td>\n",
       "      <td>1.61004</td>\n",
       "      <td>0.801418</td>\n",
       "      <td>-0.793936</td>\n",
       "      <td>0.294574</td>\n",
       "      <td>0.383994</td>\n",
       "      <td>-2.87867</td>\n",
       "      <td>0.10</td>\n",
       "    </tr>\n",
       "    <tr>\n",
       "      <th>2</th>\n",
       "      <td>-2.20288</td>\n",
       "      <td>7.82697</td>\n",
       "      <td>2.16196</td>\n",
       "      <td>-2.09869</td>\n",
       "      <td>-0.0224598</td>\n",
       "      <td>6.15063</td>\n",
       "      <td>-2.58808</td>\n",
       "      <td>-0.176312</td>\n",
       "      <td>0.0699191</td>\n",
       "      <td>-0.232827</td>\n",
       "      <td>1.60993</td>\n",
       "      <td>0.801331</td>\n",
       "      <td>-0.793885</td>\n",
       "      <td>0.294575</td>\n",
       "      <td>0.383985</td>\n",
       "      <td>-2.87826</td>\n",
       "      <td>1.00</td>\n",
       "    </tr>\n",
       "    <tr>\n",
       "      <th>3</th>\n",
       "      <td>-2.18935</td>\n",
       "      <td>7.75134</td>\n",
       "      <td>2.01223</td>\n",
       "      <td>-2.01454</td>\n",
       "      <td>0.0207199</td>\n",
       "      <td>6.10886</td>\n",
       "      <td>-2.21999</td>\n",
       "      <td>-0.179555</td>\n",
       "      <td>0.0846918</td>\n",
       "      <td>-0.20838</td>\n",
       "      <td>1.59853</td>\n",
       "      <td>0.792287</td>\n",
       "      <td>-0.788411</td>\n",
       "      <td>0.294736</td>\n",
       "      <td>0.382904</td>\n",
       "      <td>-2.83469</td>\n",
       "      <td>100.00</td>\n",
       "    </tr>\n",
       "    <tr>\n",
       "      <th>4</th>\n",
       "      <td>-2.09111</td>\n",
       "      <td>7.20818</td>\n",
       "      <td>1.10778</td>\n",
       "      <td>-1.43027</td>\n",
       "      <td>0.279475</td>\n",
       "      <td>5.792</td>\n",
       "      <td>-0.899306</td>\n",
       "      <td>-0.19744</td>\n",
       "      <td>0.180288</td>\n",
       "      <td>-0.061985</td>\n",
       "      <td>1.51187</td>\n",
       "      <td>0.737808</td>\n",
       "      <td>-0.746267</td>\n",
       "      <td>0.295337</td>\n",
       "      <td>0.373354</td>\n",
       "      <td>-2.52572</td>\n",
       "      <td>1000.00</td>\n",
       "    </tr>\n",
       "    <tr>\n",
       "      <th>5</th>\n",
       "      <td>-1.92302</td>\n",
       "      <td>6.39441</td>\n",
       "      <td>0.326225</td>\n",
       "      <td>-0.663041</td>\n",
       "      <td>0.483292</td>\n",
       "      <td>5.28912</td>\n",
       "      <td>-0.314438</td>\n",
       "      <td>-0.219909</td>\n",
       "      <td>0.307024</td>\n",
       "      <td>0.0748052</td>\n",
       "      <td>1.38816</td>\n",
       "      <td>0.687022</td>\n",
       "      <td>-0.678665</td>\n",
       "      <td>0.295309</td>\n",
       "      <td>0.357893</td>\n",
       "      <td>-2.06863</td>\n",
       "      <td>3000.00</td>\n",
       "    </tr>\n",
       "    <tr>\n",
       "      <th>6</th>\n",
       "      <td>-1.78542</td>\n",
       "      <td>5.81326</td>\n",
       "      <td>0.053512</td>\n",
       "      <td>-0.203402</td>\n",
       "      <td>0.54019</td>\n",
       "      <td>4.91462</td>\n",
       "      <td>-0.157635</td>\n",
       "      <td>-0.235891</td>\n",
       "      <td>0.390721</td>\n",
       "      <td>0.130673</td>\n",
       "      <td>1.30879</td>\n",
       "      <td>0.666166</td>\n",
       "      <td>-0.628227</td>\n",
       "      <td>0.294952</td>\n",
       "      <td>0.346999</td>\n",
       "      <td>-1.76497</td>\n",
       "      <td>5000.00</td>\n",
       "    </tr>\n",
       "    <tr>\n",
       "      <th>7</th>\n",
       "      <td>-1.61416</td>\n",
       "      <td>5.16162</td>\n",
       "      <td>-0.0928206</td>\n",
       "      <td>0.222358</td>\n",
       "      <td>0.558834</td>\n",
       "      <td>4.47788</td>\n",
       "      <td>-0.0696</td>\n",
       "      <td>-0.254202</td>\n",
       "      <td>0.479383</td>\n",
       "      <td>0.166524</td>\n",
       "      <td>1.22886</td>\n",
       "      <td>0.652191</td>\n",
       "      <td>-0.569472</td>\n",
       "      <td>0.294362</td>\n",
       "      <td>0.334639</td>\n",
       "      <td>-1.45644</td>\n",
       "      <td>8000.00</td>\n",
       "    </tr>\n",
       "    <tr>\n",
       "      <th>8</th>\n",
       "      <td>-1.51692</td>\n",
       "      <td>4.81926</td>\n",
       "      <td>-0.127397</td>\n",
       "      <td>0.407123</td>\n",
       "      <td>0.55774</td>\n",
       "      <td>4.24015</td>\n",
       "      <td>-0.042606</td>\n",
       "      <td>-0.263998</td>\n",
       "      <td>0.523968</td>\n",
       "      <td>0.177051</td>\n",
       "      <td>1.19057</td>\n",
       "      <td>0.647623</td>\n",
       "      <td>-0.537532</td>\n",
       "      <td>0.293993</td>\n",
       "      <td>0.327897</td>\n",
       "      <td>-1.30808</td>\n",
       "      <td>10000.00</td>\n",
       "    </tr>\n",
       "  </tbody>\n",
       "</table>\n",
       "</div>"
      ],
      "text/plain": [
       "     AtBat     Hits      HmRun      Runs        RBI    Walks     Years  \\\n",
       "0 -2.20302  7.82775    2.16353  -2.09956 -0.0229113  6.15106  -2.59233   \n",
       "1 -2.20301  7.82768    2.16339  -2.09948 -0.0228703  6.15102  -2.59194   \n",
       "2 -2.20288  7.82697    2.16196  -2.09869 -0.0224598  6.15063  -2.58808   \n",
       "3 -2.18935  7.75134    2.01223  -2.01454  0.0207199  6.10886  -2.21999   \n",
       "4 -2.09111  7.20818    1.10778  -1.43027   0.279475    5.792 -0.899306   \n",
       "5 -1.92302  6.39441   0.326225 -0.663041   0.483292  5.28912 -0.314438   \n",
       "6 -1.78542  5.81326   0.053512 -0.203402    0.54019  4.91462 -0.157635   \n",
       "7 -1.61416  5.16162 -0.0928206  0.222358   0.558834  4.47788   -0.0696   \n",
       "8 -1.51692  4.81926  -0.127397  0.407123    0.55774  4.24015 -0.042606   \n",
       "\n",
       "     CAtBat      CHits     CHmRun    CRuns      CRBI    CWalks   PutOuts  \\\n",
       "0 -0.176276  0.0697632  -0.233086  1.61005  0.801427 -0.793941  0.294573   \n",
       "1  -0.17628  0.0697774  -0.233062  1.61004  0.801418 -0.793936  0.294574   \n",
       "2 -0.176312  0.0699191  -0.232827  1.60993  0.801331 -0.793885  0.294575   \n",
       "3 -0.179555  0.0846918   -0.20838  1.59853  0.792287 -0.788411  0.294736   \n",
       "4  -0.19744   0.180288  -0.061985  1.51187  0.737808 -0.746267  0.295337   \n",
       "5 -0.219909   0.307024  0.0748052  1.38816  0.687022 -0.678665  0.295309   \n",
       "6 -0.235891   0.390721   0.130673  1.30879  0.666166 -0.628227  0.294952   \n",
       "7 -0.254202   0.479383   0.166524  1.22886  0.652191 -0.569472  0.294362   \n",
       "8 -0.263998   0.523968   0.177051  1.19057  0.647623 -0.537532  0.293993   \n",
       "\n",
       "    Assists   Errors    alphas  \n",
       "0  0.383995 -2.87871      0.01  \n",
       "1  0.383994 -2.87867      0.10  \n",
       "2  0.383985 -2.87826      1.00  \n",
       "3  0.382904 -2.83469    100.00  \n",
       "4  0.373354 -2.52572   1000.00  \n",
       "5  0.357893 -2.06863   3000.00  \n",
       "6  0.346999 -1.76497   5000.00  \n",
       "7  0.334639 -1.45644   8000.00  \n",
       "8  0.327897 -1.30808  10000.00  "
      ]
     },
     "execution_count": 188,
     "metadata": {},
     "output_type": "execute_result"
    }
   ],
   "source": [
    "ridge_results['alphas']=my_alphas\n",
    "ridge_results"
   ]
  },
  {
   "cell_type": "code",
   "execution_count": 197,
   "metadata": {},
   "outputs": [],
   "source": [
    "plot_ridge = pd.melt(ridge_results, ['alphas'])\n",
    "plot_ridge['value']= pd.to_numeric(plot_ridge['value'])\n",
    "plot_ridge['alphas']= pd.to_numeric(plot_ridge['alphas'])"
   ]
  },
  {
   "cell_type": "code",
   "execution_count": 199,
   "metadata": {},
   "outputs": [
    {
     "data": {
      "image/png": "[encoded data removed]",
      "text/plain": [
       "<Figure size 720x720 with 1 Axes>"
      ]
     },
     "metadata": {},
     "output_type": "display_data"
    }
   ],
   "source": [
    "sns.set()\n",
    "plt.figure(figsize=(10,10))\n",
    "ax= sns.lineplot(x='alphas', y='value', hue='variable', \n",
    "             data=plot_ridge)\n",
    "ax.set_title('Trajectories of Coefficients - Ridge').set_fontsize(20)"
   ]
  },
  {
   "cell_type": "code",
   "execution_count": 226,
   "metadata": {},
   "outputs": [
    {
     "name": "stdout",
     "output_type": "stream",
     "text": [
      "optimal_alpha:  21950\n"
     ]
    },
    {
     "name": "stderr",
     "output_type": "stream",
     "text": [
      "/Users/apple/anaconda3/lib/python3.6/site-packages/sklearn/model_selection/_search.py:841: DeprecationWarning: The default of the `iid` parameter will change from True to False in version 0.22 and will be removed in 0.24. This will change numeric results when test-set sizes are unequal.\n",
      "  DeprecationWarning)\n"
     ]
    }
   ],
   "source": [
    "ridgecv = linear_model.RidgeCV(alphas= np.arange(100,50000,50),cv=10)\n",
    "ridgecv.fit(ht_X, ht_Y)\n",
    "print('optimal_alpha: ',ridgecv.alpha_)"
   ]
  },
  {
   "cell_type": "markdown",
   "metadata": {},
   "source": [
    "## 2\n",
    "**Short Answer. Explain in your own words the bias-variance tradeoff. What\n",
    "role does regularization play in this tradeoff? Make reference to your findings\n",
    "in number (1) to describe models of high/low bias and variance**"
   ]
  },
  {
   "cell_type": "markdown",
   "metadata": {},
   "source": [
    "Variance refers to how much the predicted value would change if we estimated it using a different training data set. Bias refers to the error that is introduced by approximating a rel-life problem. There is a trade-off between the two: in general, more flexible models will reult in higher varaince but lower bias. \n",
    "\n",
    "Regularization has advantage over linear model because of bias varaience trade-off. As the panelty increases, the flexibility of the model decreases, resulting in substantial decrease in variance, with a slight increase in bias. "
   ]
  },
  {
   "cell_type": "code",
   "execution_count": null,
   "metadata": {},
   "outputs": [],
   "source": []
  }
 ],
 "metadata": {
  "kernelspec": {
   "display_name": "Python 3",
   "language": "python",
   "name": "python3"
  },
  "language_info": {
   "codemirror_mode": {
    "name": "ipython",
    "version": 3
   },
   "file_extension": ".py",
   "mimetype": "text/x-python",
   "name": "python",
   "nbconvert_exporter": "python",
   "pygments_lexer": "ipython3",
   "version": "3.6.8"
  }
 },
 "nbformat": 4,
 "nbformat_minor": 2
}
